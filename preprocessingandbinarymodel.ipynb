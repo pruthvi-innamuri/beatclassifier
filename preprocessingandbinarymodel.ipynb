{
 "cells": [
  {
   "cell_type": "code",
   "execution_count": 1,
   "id": "d55202df",
   "metadata": {},
   "outputs": [
    {
     "name": "stdout",
     "output_type": "stream",
     "text": [
      "Requirement already satisfied: spotipy in c:\\users\\pruthvi\\anaconda3\\envs\\musicdatascienceproject\\lib\\site-packages (2.19.0)\n",
      "Requirement already satisfied: six>=1.15.0 in c:\\users\\pruthvi\\appdata\\roaming\\python\\python38\\site-packages (from spotipy) (1.15.0)\n",
      "Requirement already satisfied: urllib3>=1.26.0 in c:\\users\\pruthvi\\anaconda3\\envs\\musicdatascienceproject\\lib\\site-packages (from spotipy) (1.26.4)\n",
      "Requirement already satisfied: requests>=2.25.0 in c:\\users\\pruthvi\\anaconda3\\envs\\musicdatascienceproject\\lib\\site-packages (from spotipy) (2.25.1)\n",
      "Requirement already satisfied: idna<3,>=2.5 in c:\\users\\pruthvi\\anaconda3\\envs\\musicdatascienceproject\\lib\\site-packages (from requests>=2.25.0->spotipy) (2.10)\n",
      "Requirement already satisfied: certifi>=2017.4.17 in c:\\users\\pruthvi\\anaconda3\\envs\\musicdatascienceproject\\lib\\site-packages (from requests>=2.25.0->spotipy) (2021.10.8)\n",
      "Requirement already satisfied: chardet<5,>=3.0.2 in c:\\users\\pruthvi\\anaconda3\\envs\\musicdatascienceproject\\lib\\site-packages (from requests>=2.25.0->spotipy) (3.0.4)\n",
      "Note: you may need to restart the kernel to use updated packages.\n"
     ]
    }
   ],
   "source": [
    "pip install spotipy"
   ]
  },
  {
   "cell_type": "markdown",
   "id": "2f86bc95",
   "metadata": {},
   "source": [
    "# Data Preprocessing"
   ]
  },
  {
   "cell_type": "code",
   "execution_count": 4,
   "id": "4f25fca1",
   "metadata": {},
   "outputs": [],
   "source": [
    "#Goal of project\n",
    "#1. Take in an audio file\n",
    "#2. Analyze features of the audio file\n",
    "#3. Determine which hip-hop artist is most associated/fit for that beat\n",
    "\n",
    "#General Libraries\n",
    "\n",
    "import pandas as pd\n",
    "import numpy as np\n",
    "import seaborn as sns\n",
    "import matplotlib as plt\n",
    "import wave\n",
    "import spotipy\n",
    "import re\n",
    "from spotipy.oauth2 import SpotifyClientCredentials\n",
    "\n",
    "\n",
    "#ML Libraries\n",
    "\n",
    "import matplotlib.pyplot as plt\n",
    "import sklearn\n",
    "\n",
    "\n",
    "# Import necessary modules\n",
    "from sklearn.model_selection import train_test_split\n",
    "from sklearn.metrics import mean_squared_error\n",
    "from sklearn.preprocessing import LabelEncoder\n",
    "from math import sqrt\n",
    "\n",
    "\n",
    "# Keras specific\n",
    "import keras\n",
    "from keras.models import Sequential\n",
    "from keras.layers import Dense\n",
    "from keras.utils import to_categorical \n",
    "from keras.wrappers.scikit_learn import KerasClassifier\n",
    "from sklearn.model_selection import KFold\n",
    "from sklearn.pipeline import Pipeline\n",
    "from sklearn.model_selection import cross_val_score\n",
    "from keras.optimizers import SGD\n",
    "from keras.callbacks import ModelCheckpoint\n",
    "from sklearn.preprocessing import StandardScaler\n",
    "from tensorflow.keras.models import load_model\n",
    "from sklearn.model_selection import GridSearchCV\n",
    "from keras.layers import Dropout\n",
    "from tensorflow.keras import initializers\n",
    "\n",
    "artistsID = r\"C:\\Users\\Pruthvi\\Desktop\\Beat Classifier\\artistsid.csv\"\n",
    "\n"
   ]
  },
  {
   "cell_type": "code",
   "execution_count": 5,
   "id": "21c4bf7a",
   "metadata": {},
   "outputs": [
    {
     "data": {
      "text/html": [
       "<div>\n",
       "<style scoped>\n",
       "    .dataframe tbody tr th:only-of-type {\n",
       "        vertical-align: middle;\n",
       "    }\n",
       "\n",
       "    .dataframe tbody tr th {\n",
       "        vertical-align: top;\n",
       "    }\n",
       "\n",
       "    .dataframe thead th {\n",
       "        text-align: right;\n",
       "    }\n",
       "</style>\n",
       "<table border=\"1\" class=\"dataframe\">\n",
       "  <thead>\n",
       "    <tr style=\"text-align: right;\">\n",
       "      <th></th>\n",
       "      <th>Artist</th>\n",
       "      <th>Artist ID</th>\n",
       "    </tr>\n",
       "  </thead>\n",
       "  <tbody>\n",
       "    <tr>\n",
       "      <th>0</th>\n",
       "      <td>NAV</td>\n",
       "      <td>7rkW85dBwwrJtlHRDkJDAC</td>\n",
       "    </tr>\n",
       "    <tr>\n",
       "      <th>1</th>\n",
       "      <td>Drake</td>\n",
       "      <td>3TVXtAsR1Inumwj472S9r4</td>\n",
       "    </tr>\n",
       "    <tr>\n",
       "      <th>2</th>\n",
       "      <td>Tory Lanez</td>\n",
       "      <td>2jku7tDXc6XoB6MO2hFuqg</td>\n",
       "    </tr>\n",
       "    <tr>\n",
       "      <th>3</th>\n",
       "      <td>J. Cole</td>\n",
       "      <td>6l3HvQ5sa6mXTsMTB19rO5</td>\n",
       "    </tr>\n",
       "    <tr>\n",
       "      <th>4</th>\n",
       "      <td>Future</td>\n",
       "      <td>1RyvyyTE3xzB2ZywiAwp0i</td>\n",
       "    </tr>\n",
       "  </tbody>\n",
       "</table>\n",
       "</div>"
      ],
      "text/plain": [
       "       Artist               Artist ID\n",
       "0         NAV  7rkW85dBwwrJtlHRDkJDAC\n",
       "1       Drake  3TVXtAsR1Inumwj472S9r4\n",
       "2  Tory Lanez  2jku7tDXc6XoB6MO2hFuqg\n",
       "3     J. Cole  6l3HvQ5sa6mXTsMTB19rO5\n",
       "4      Future  1RyvyyTE3xzB2ZywiAwp0i"
      ]
     },
     "execution_count": 5,
     "metadata": {},
     "output_type": "execute_result"
    }
   ],
   "source": [
    "#SETTING UP\n",
    "\n",
    "#Spotify Auth\n",
    "cid = \"your client id\"\n",
    "secret = \"your secret id\"\n",
    "\n",
    "#Creating Spotify Instance\n",
    "client_credentials_manager = SpotifyClientCredentials(client_id=cid, client_secret=secret)\n",
    "sp = spotipy.Spotify(client_credentials_manager = client_credentials_manager)\n",
    "\n",
    "df = pd.read_csv(artistsID)\n",
    "df.head(5)"
   ]
  },
  {
   "cell_type": "code",
   "execution_count": 363,
   "id": "557307f6",
   "metadata": {},
   "outputs": [],
   "source": [
    "#REGEX\n",
    "\n",
    "#re.sub(r'[a-z]+:[a-z]+:', '',sp.artist_top_tracks(artistdf.iloc[0,1], country='US')['tracks'][9]['uri'])"
   ]
  },
  {
   "cell_type": "markdown",
   "id": "565d6c05",
   "metadata": {},
   "source": [
    "## Processing Song Data From My 50 Most Influential Artists"
   ]
  },
  {
   "cell_type": "code",
   "execution_count": 254,
   "id": "dc7000fa",
   "metadata": {},
   "outputs": [],
   "source": [
    "#Creating Dictionary with\n",
    "#KEYS: artist names \n",
    "#VALUES: dictionary of artist's albums.\n",
    "\n",
    "AllAlbums ={}\n",
    "for row in range(len(df)):\n",
    "    artistName = df.iloc[row,0]\n",
    "    artistID = df.iloc[row,1]\n",
    "    artistAlbums = {}\n",
    "    \n",
    "    for album in range(len(sp.artist_albums(artistID)['items'])):\n",
    "        albumName = sp.artist_albums(artistID)['items'][album]['name']\n",
    "        albumID = sp.artist_albums(artistID)['items'][album]['uri']\n",
    "        artistAlbums[albumName] = albumID\n",
    "    AllAlbums[artistName] = artistAlbums\n"
   ]
  },
  {
   "cell_type": "code",
   "execution_count": 258,
   "id": "37deb8f0",
   "metadata": {},
   "outputs": [],
   "source": [
    "#Create main dataframe with all song names/ids and album names/ids from my top 50 artists.\n",
    "#Cell might take a while to run!!!\n",
    "df2 = pd.DataFrame(columns=['Artist', 'Album', 'Album ID', 'Song', 'Song ID'])\n",
    "for artist in AllAlbums.keys():\n",
    "    artistDisc = AllAlbums[artist]\n",
    "    for album in artistDisc.keys():\n",
    "        albumID = artistDisc[album]\n",
    "        albumlength = len(sp.album_tracks(artistDisc[album])['items'])\n",
    "        for song in range(albumlength):\n",
    "            songname = sp.album_tracks(albumID)['items'][song]['name']\n",
    "            songid = sp.album_tracks(albumID)['items'][song]['uri']\n",
    "            \n",
    "            df2.loc[len(df2.index)] = [artist, album, albumID, songname, songid]\n",
    "\n",
    "#Drop duplicate songs since deluxe and original versions of an album overlap in songs.            \n",
    "df2 = df2.drop_duplicates(subset=['Song ID'])\n",
    "\n",
    "#merge with inital df to get artist IDs.\n",
    "maindf = df.merge(df2, left_on='Artist', right_on='Artist', how='inner')"
   ]
  },
  {
   "cell_type": "code",
   "execution_count": 44,
   "id": "41753d6a",
   "metadata": {
    "scrolled": true
   },
   "outputs": [
    {
     "data": {
      "text/html": [
       "<div>\n",
       "<style scoped>\n",
       "    .dataframe tbody tr th:only-of-type {\n",
       "        vertical-align: middle;\n",
       "    }\n",
       "\n",
       "    .dataframe tbody tr th {\n",
       "        vertical-align: top;\n",
       "    }\n",
       "\n",
       "    .dataframe thead th {\n",
       "        text-align: right;\n",
       "    }\n",
       "</style>\n",
       "<table border=\"1\" class=\"dataframe\">\n",
       "  <thead>\n",
       "    <tr style=\"text-align: right;\">\n",
       "      <th></th>\n",
       "      <th>Artist</th>\n",
       "      <th>Artist ID</th>\n",
       "      <th>Album</th>\n",
       "      <th>Album ID</th>\n",
       "      <th>Song</th>\n",
       "      <th>Song ID</th>\n",
       "    </tr>\n",
       "  </thead>\n",
       "  <tbody>\n",
       "    <tr>\n",
       "      <th>0</th>\n",
       "      <td>NAV</td>\n",
       "      <td>7rkW85dBwwrJtlHRDkJDAC</td>\n",
       "      <td>Emergency Tsunami (Bonus Version)</td>\n",
       "      <td>spotify:album:3aMMFb7DaFT06VfavwhrPi</td>\n",
       "      <td>Breaking News Intro</td>\n",
       "      <td>spotify:track:0Kj67wCgRtCeh2vnnDVRw6</td>\n",
       "    </tr>\n",
       "    <tr>\n",
       "      <th>1</th>\n",
       "      <td>NAV</td>\n",
       "      <td>7rkW85dBwwrJtlHRDkJDAC</td>\n",
       "      <td>Emergency Tsunami (Bonus Version)</td>\n",
       "      <td>spotify:album:3aMMFb7DaFT06VfavwhrPi</td>\n",
       "      <td>Friends &amp; Family</td>\n",
       "      <td>spotify:track:4NacsqyQU8nZDIdxShKlpU</td>\n",
       "    </tr>\n",
       "    <tr>\n",
       "      <th>2</th>\n",
       "      <td>NAV</td>\n",
       "      <td>7rkW85dBwwrJtlHRDkJDAC</td>\n",
       "      <td>Emergency Tsunami (Bonus Version)</td>\n",
       "      <td>spotify:album:3aMMFb7DaFT06VfavwhrPi</td>\n",
       "      <td>Young Wheezy (with Gunna)</td>\n",
       "      <td>spotify:track:0DZCRBEqV2GYTWj8OPA49H</td>\n",
       "    </tr>\n",
       "    <tr>\n",
       "      <th>3</th>\n",
       "      <td>NAV</td>\n",
       "      <td>7rkW85dBwwrJtlHRDkJDAC</td>\n",
       "      <td>Emergency Tsunami (Bonus Version)</td>\n",
       "      <td>spotify:album:3aMMFb7DaFT06VfavwhrPi</td>\n",
       "      <td>Nasty</td>\n",
       "      <td>spotify:track:0oAaQfGlKYKHciaZ3OixSh</td>\n",
       "    </tr>\n",
       "  </tbody>\n",
       "</table>\n",
       "</div>"
      ],
      "text/plain": [
       "  Artist               Artist ID                              Album  \\\n",
       "0    NAV  7rkW85dBwwrJtlHRDkJDAC  Emergency Tsunami (Bonus Version)   \n",
       "1    NAV  7rkW85dBwwrJtlHRDkJDAC  Emergency Tsunami (Bonus Version)   \n",
       "2    NAV  7rkW85dBwwrJtlHRDkJDAC  Emergency Tsunami (Bonus Version)   \n",
       "3    NAV  7rkW85dBwwrJtlHRDkJDAC  Emergency Tsunami (Bonus Version)   \n",
       "\n",
       "                               Album ID                       Song  \\\n",
       "0  spotify:album:3aMMFb7DaFT06VfavwhrPi        Breaking News Intro   \n",
       "1  spotify:album:3aMMFb7DaFT06VfavwhrPi           Friends & Family   \n",
       "2  spotify:album:3aMMFb7DaFT06VfavwhrPi  Young Wheezy (with Gunna)   \n",
       "3  spotify:album:3aMMFb7DaFT06VfavwhrPi                      Nasty   \n",
       "\n",
       "                                Song ID  \n",
       "0  spotify:track:0Kj67wCgRtCeh2vnnDVRw6  \n",
       "1  spotify:track:4NacsqyQU8nZDIdxShKlpU  \n",
       "2  spotify:track:0DZCRBEqV2GYTWj8OPA49H  \n",
       "3  spotify:track:0oAaQfGlKYKHciaZ3OixSh  "
      ]
     },
     "execution_count": 44,
     "metadata": {},
     "output_type": "execute_result"
    }
   ],
   "source": [
    "#maindf.to_csv(r'C:\\Users\\Pruthvi\\Desktop\\Beat Classifier\\artistsongs.csv')\n",
    "maindf = pd.read_csv(r'C:\\Users\\Pruthvi\\Desktop\\Beat Classifier\\artistsongs.csv')\n",
    "maindf.head(4)"
   ]
  },
  {
   "cell_type": "markdown",
   "id": "b0fbbb36",
   "metadata": {},
   "source": [
    "### Creating Dataframe with all songs and their features\n",
    "Danceability, energy, key, loudness, mode, acousticness, liveness, valence, tempo, and duration"
   ]
  },
  {
   "cell_type": "code",
   "execution_count": 312,
   "id": "752df7e4",
   "metadata": {},
   "outputs": [],
   "source": [
    "#Song Features dataframe\n",
    "#Columns: Artist, Danceability, Energy, Key, \n",
    "#Loudness, mode, acousticness, liveness, valence, tempo, duration_ms\n",
    "#https://medium.com/@FinchMF/praise-questions-and-critique-spotify-api-38e984a4174b    -  explains audio features\n",
    "featuresdf = pd.DataFrame(columns=['artist', 'danceability', 'energy', 'key', 'loudness', 'mode', 'acousticness',\n",
    "                                  'liveness', 'valence', 'tempo', 'duration_ms'])\n",
    "for row in range(len(maindf)):\n",
    "    artist = maindf.iloc[row,0]\n",
    "    songID = maindf.iloc[row,5]\n",
    "    features = sp.audio_features(songID)[0]\n",
    "\n",
    "    \n",
    "    featuresdf.loc[len(featuresdf)] = [artist, features['danceability'], features['energy'], \n",
    "                                             features['key'], features['loudness'], features['mode'],\n",
    "                                            features['acousticness'], features['liveness'], features['valence'],\n",
    "                                       features['tempo'], features['duration_ms']]\n",
    "\n",
    "\n"
   ]
  },
  {
   "cell_type": "markdown",
   "id": "d2fee3ee",
   "metadata": {},
   "source": [
    "Mode describes if a song has a major or minor scale. I will simply turn this feature into two new features, major and minor. This is like one-hot-encoding the categorical mode feature."
   ]
  },
  {
   "cell_type": "code",
   "execution_count": 516,
   "id": "4ef45b1c",
   "metadata": {},
   "outputs": [],
   "source": [
    "featuresdf['major'] = featuresdf['mode']\n",
    "featuresdf['minor'] = abs(1- featuresdf['mode'])\n",
    "featuresdf = featuresdf.drop('mode', axis=1)"
   ]
  },
  {
   "cell_type": "markdown",
   "id": "c2ab26a1",
   "metadata": {},
   "source": [
    "I am removing artists with less than 100 songs. "
   ]
  },
  {
   "cell_type": "code",
   "execution_count": 1523,
   "id": "8a04f912",
   "metadata": {},
   "outputs": [],
   "source": [
    "#featuresdf = pd.read_csv(r'C:\\Users\\Pruthvi\\Desktop\\Beat Classifier\\songfeatures.csv')"
   ]
  },
  {
   "cell_type": "code",
   "execution_count": 1524,
   "id": "08f678ec",
   "metadata": {},
   "outputs": [],
   "source": [
    "artistsfrequency = featuresdf.groupby('artist').agg('count').loc[:,'danceability']\n",
    "artistsfrequency = pd.DataFrame(data = {'artist':artistsfrequency.index,\n",
    "                                        'frequency':artistsfrequency.loc[:].to_numpy().astype(int)},\n",
    "                                index = range(50))"
   ]
  },
  {
   "cell_type": "code",
   "execution_count": 1517,
   "id": "e4806d22",
   "metadata": {
    "scrolled": true
   },
   "outputs": [
    {
     "data": {
      "text/html": [
       "<div>\n",
       "<style scoped>\n",
       "    .dataframe tbody tr th:only-of-type {\n",
       "        vertical-align: middle;\n",
       "    }\n",
       "\n",
       "    .dataframe tbody tr th {\n",
       "        vertical-align: top;\n",
       "    }\n",
       "\n",
       "    .dataframe thead th {\n",
       "        text-align: right;\n",
       "    }\n",
       "</style>\n",
       "<table border=\"1\" class=\"dataframe\">\n",
       "  <thead>\n",
       "    <tr style=\"text-align: right;\">\n",
       "      <th></th>\n",
       "      <th>artist</th>\n",
       "      <th>frequency</th>\n",
       "    </tr>\n",
       "  </thead>\n",
       "  <tbody>\n",
       "    <tr>\n",
       "      <th>0</th>\n",
       "      <td>2 Chainz</td>\n",
       "      <td>183</td>\n",
       "    </tr>\n",
       "    <tr>\n",
       "      <th>1</th>\n",
       "      <td>21 Savage</td>\n",
       "      <td>190</td>\n",
       "    </tr>\n",
       "    <tr>\n",
       "      <th>2</th>\n",
       "      <td>88GLAM</td>\n",
       "      <td>98</td>\n",
       "    </tr>\n",
       "    <tr>\n",
       "      <th>3</th>\n",
       "      <td>Belly</td>\n",
       "      <td>75</td>\n",
       "    </tr>\n",
       "    <tr>\n",
       "      <th>4</th>\n",
       "      <td>Big Sean</td>\n",
       "      <td>160</td>\n",
       "    </tr>\n",
       "  </tbody>\n",
       "</table>\n",
       "</div>"
      ],
      "text/plain": [
       "      artist  frequency\n",
       "0   2 Chainz        183\n",
       "1  21 Savage        190\n",
       "2     88GLAM         98\n",
       "3      Belly         75\n",
       "4   Big Sean        160"
      ]
     },
     "execution_count": 1517,
     "metadata": {},
     "output_type": "execute_result"
    }
   ],
   "source": [
    "artistsfrequency.head(5)"
   ]
  },
  {
   "cell_type": "code",
   "execution_count": 1528,
   "id": "09793ca4",
   "metadata": {},
   "outputs": [],
   "source": [
    "featuresdf = featuresdf.merge(artistsfrequency, how='inner', on='artist')\n",
    "featuresdf = featuresdf.loc[featuresdf['frequency'] >=100,:]"
   ]
  },
  {
   "cell_type": "code",
   "execution_count": 1529,
   "id": "d90e4aef",
   "metadata": {},
   "outputs": [],
   "source": [
    "featuresdf.index = range(len(featuresdf))"
   ]
  },
  {
   "cell_type": "code",
   "execution_count": 1530,
   "id": "f988837a",
   "metadata": {},
   "outputs": [],
   "source": [
    "featuresdf = featuresdf.drop(['frequency'],axis=1)"
   ]
  },
  {
   "cell_type": "code",
   "execution_count": 1531,
   "id": "17c6b09b",
   "metadata": {},
   "outputs": [
    {
     "data": {
      "text/html": [
       "<div>\n",
       "<style scoped>\n",
       "    .dataframe tbody tr th:only-of-type {\n",
       "        vertical-align: middle;\n",
       "    }\n",
       "\n",
       "    .dataframe tbody tr th {\n",
       "        vertical-align: top;\n",
       "    }\n",
       "\n",
       "    .dataframe thead th {\n",
       "        text-align: right;\n",
       "    }\n",
       "</style>\n",
       "<table border=\"1\" class=\"dataframe\">\n",
       "  <thead>\n",
       "    <tr style=\"text-align: right;\">\n",
       "      <th></th>\n",
       "      <th>artist</th>\n",
       "      <th>danceability</th>\n",
       "      <th>energy</th>\n",
       "      <th>key</th>\n",
       "      <th>loudness</th>\n",
       "      <th>acousticness</th>\n",
       "      <th>liveness</th>\n",
       "      <th>valence</th>\n",
       "      <th>tempo</th>\n",
       "      <th>duration_ms</th>\n",
       "      <th>major</th>\n",
       "      <th>minor</th>\n",
       "    </tr>\n",
       "  </thead>\n",
       "  <tbody>\n",
       "    <tr>\n",
       "      <th>0</th>\n",
       "      <td>NAV</td>\n",
       "      <td>0.721</td>\n",
       "      <td>0.684</td>\n",
       "      <td>5</td>\n",
       "      <td>-10.378</td>\n",
       "      <td>0.93700</td>\n",
       "      <td>0.9010</td>\n",
       "      <td>0.913</td>\n",
       "      <td>126.958</td>\n",
       "      <td>34936</td>\n",
       "      <td>1</td>\n",
       "      <td>0</td>\n",
       "    </tr>\n",
       "    <tr>\n",
       "      <th>1</th>\n",
       "      <td>NAV</td>\n",
       "      <td>0.835</td>\n",
       "      <td>0.509</td>\n",
       "      <td>1</td>\n",
       "      <td>-6.792</td>\n",
       "      <td>0.03420</td>\n",
       "      <td>0.1400</td>\n",
       "      <td>0.275</td>\n",
       "      <td>129.077</td>\n",
       "      <td>145121</td>\n",
       "      <td>1</td>\n",
       "      <td>0</td>\n",
       "    </tr>\n",
       "    <tr>\n",
       "      <th>2</th>\n",
       "      <td>NAV</td>\n",
       "      <td>0.918</td>\n",
       "      <td>0.544</td>\n",
       "      <td>6</td>\n",
       "      <td>-3.749</td>\n",
       "      <td>0.01220</td>\n",
       "      <td>0.0850</td>\n",
       "      <td>0.311</td>\n",
       "      <td>122.017</td>\n",
       "      <td>151481</td>\n",
       "      <td>0</td>\n",
       "      <td>1</td>\n",
       "    </tr>\n",
       "    <tr>\n",
       "      <th>3</th>\n",
       "      <td>NAV</td>\n",
       "      <td>0.955</td>\n",
       "      <td>0.619</td>\n",
       "      <td>5</td>\n",
       "      <td>-5.242</td>\n",
       "      <td>0.03170</td>\n",
       "      <td>0.1080</td>\n",
       "      <td>0.524</td>\n",
       "      <td>116.026</td>\n",
       "      <td>157242</td>\n",
       "      <td>0</td>\n",
       "      <td>1</td>\n",
       "    </tr>\n",
       "    <tr>\n",
       "      <th>4</th>\n",
       "      <td>NAV</td>\n",
       "      <td>0.788</td>\n",
       "      <td>0.778</td>\n",
       "      <td>11</td>\n",
       "      <td>-4.931</td>\n",
       "      <td>0.00218</td>\n",
       "      <td>0.1440</td>\n",
       "      <td>0.543</td>\n",
       "      <td>159.995</td>\n",
       "      <td>159004</td>\n",
       "      <td>0</td>\n",
       "      <td>1</td>\n",
       "    </tr>\n",
       "    <tr>\n",
       "      <th>...</th>\n",
       "      <td>...</td>\n",
       "      <td>...</td>\n",
       "      <td>...</td>\n",
       "      <td>...</td>\n",
       "      <td>...</td>\n",
       "      <td>...</td>\n",
       "      <td>...</td>\n",
       "      <td>...</td>\n",
       "      <td>...</td>\n",
       "      <td>...</td>\n",
       "      <td>...</td>\n",
       "      <td>...</td>\n",
       "    </tr>\n",
       "    <tr>\n",
       "      <th>6054</th>\n",
       "      <td>2 Chainz</td>\n",
       "      <td>0.732</td>\n",
       "      <td>0.729</td>\n",
       "      <td>9</td>\n",
       "      <td>-2.955</td>\n",
       "      <td>0.14900</td>\n",
       "      <td>0.5080</td>\n",
       "      <td>0.690</td>\n",
       "      <td>128.968</td>\n",
       "      <td>253200</td>\n",
       "      <td>0</td>\n",
       "      <td>1</td>\n",
       "    </tr>\n",
       "    <tr>\n",
       "      <th>6055</th>\n",
       "      <td>2 Chainz</td>\n",
       "      <td>0.823</td>\n",
       "      <td>0.612</td>\n",
       "      <td>11</td>\n",
       "      <td>-5.832</td>\n",
       "      <td>0.08420</td>\n",
       "      <td>0.1100</td>\n",
       "      <td>0.537</td>\n",
       "      <td>96.989</td>\n",
       "      <td>199160</td>\n",
       "      <td>1</td>\n",
       "      <td>0</td>\n",
       "    </tr>\n",
       "    <tr>\n",
       "      <th>6056</th>\n",
       "      <td>2 Chainz</td>\n",
       "      <td>0.776</td>\n",
       "      <td>0.427</td>\n",
       "      <td>1</td>\n",
       "      <td>-11.808</td>\n",
       "      <td>0.02460</td>\n",
       "      <td>0.0882</td>\n",
       "      <td>0.891</td>\n",
       "      <td>132.192</td>\n",
       "      <td>230280</td>\n",
       "      <td>1</td>\n",
       "      <td>0</td>\n",
       "    </tr>\n",
       "    <tr>\n",
       "      <th>6057</th>\n",
       "      <td>2 Chainz</td>\n",
       "      <td>0.727</td>\n",
       "      <td>0.632</td>\n",
       "      <td>9</td>\n",
       "      <td>-11.110</td>\n",
       "      <td>0.03410</td>\n",
       "      <td>0.0829</td>\n",
       "      <td>0.635</td>\n",
       "      <td>148.553</td>\n",
       "      <td>219227</td>\n",
       "      <td>0</td>\n",
       "      <td>1</td>\n",
       "    </tr>\n",
       "    <tr>\n",
       "      <th>6058</th>\n",
       "      <td>2 Chainz</td>\n",
       "      <td>0.608</td>\n",
       "      <td>0.754</td>\n",
       "      <td>10</td>\n",
       "      <td>-6.208</td>\n",
       "      <td>0.00041</td>\n",
       "      <td>0.0576</td>\n",
       "      <td>0.408</td>\n",
       "      <td>176.755</td>\n",
       "      <td>200947</td>\n",
       "      <td>0</td>\n",
       "      <td>1</td>\n",
       "    </tr>\n",
       "  </tbody>\n",
       "</table>\n",
       "<p>6059 rows × 12 columns</p>\n",
       "</div>"
      ],
      "text/plain": [
       "        artist  danceability  energy  key  loudness  acousticness  liveness  \\\n",
       "0          NAV         0.721   0.684    5   -10.378       0.93700    0.9010   \n",
       "1          NAV         0.835   0.509    1    -6.792       0.03420    0.1400   \n",
       "2          NAV         0.918   0.544    6    -3.749       0.01220    0.0850   \n",
       "3          NAV         0.955   0.619    5    -5.242       0.03170    0.1080   \n",
       "4          NAV         0.788   0.778   11    -4.931       0.00218    0.1440   \n",
       "...        ...           ...     ...  ...       ...           ...       ...   \n",
       "6054  2 Chainz         0.732   0.729    9    -2.955       0.14900    0.5080   \n",
       "6055  2 Chainz         0.823   0.612   11    -5.832       0.08420    0.1100   \n",
       "6056  2 Chainz         0.776   0.427    1   -11.808       0.02460    0.0882   \n",
       "6057  2 Chainz         0.727   0.632    9   -11.110       0.03410    0.0829   \n",
       "6058  2 Chainz         0.608   0.754   10    -6.208       0.00041    0.0576   \n",
       "\n",
       "      valence    tempo  duration_ms  major  minor  \n",
       "0       0.913  126.958        34936      1      0  \n",
       "1       0.275  129.077       145121      1      0  \n",
       "2       0.311  122.017       151481      0      1  \n",
       "3       0.524  116.026       157242      0      1  \n",
       "4       0.543  159.995       159004      0      1  \n",
       "...       ...      ...          ...    ...    ...  \n",
       "6054    0.690  128.968       253200      0      1  \n",
       "6055    0.537   96.989       199160      1      0  \n",
       "6056    0.891  132.192       230280      1      0  \n",
       "6057    0.635  148.553       219227      0      1  \n",
       "6058    0.408  176.755       200947      0      1  \n",
       "\n",
       "[6059 rows x 12 columns]"
      ]
     },
     "execution_count": 1531,
     "metadata": {},
     "output_type": "execute_result"
    }
   ],
   "source": [
    "featuresdf"
   ]
  },
  {
   "cell_type": "code",
   "execution_count": 1535,
   "id": "9c4f6d48",
   "metadata": {},
   "outputs": [],
   "source": [
    "#featuresdf.to_csv(r'C:\\Users\\Pruthvi\\Desktop\\Beat Classifier\\songfeaturesartistfiltered.csv')"
   ]
  },
  {
   "cell_type": "code",
   "execution_count": 17,
   "id": "596da930",
   "metadata": {},
   "outputs": [],
   "source": [
    "featuresdf = pd.read_csv(r'C:\\Users\\Pruthvi\\Desktop\\Beat Classifier\\songfeaturesartistfiltered.csv')"
   ]
  },
  {
   "cell_type": "markdown",
   "id": "11d31029",
   "metadata": {},
   "source": [
    "### Creating Song and Feature Dataframe For My Beats"
   ]
  },
  {
   "cell_type": "code",
   "execution_count": 1303,
   "id": "10f4a2ad",
   "metadata": {},
   "outputs": [],
   "source": [
    "myBeats = {}\n",
    "beatTapeID = \"6jojGLvkUS27x2T0Nmg8yw\"\n",
    "for song in range(10):\n",
    "    beatName = sp.album_tracks(beatTapeID)['items'][song]['name']\n",
    "    beatID = sp.album_tracks(beatTapeID)['items'][song]['uri']\n",
    "    myBeats[beatName] = beatID\n",
    "\n",
    "myfeaturesdf = pd.DataFrame(columns=['Beat Name', 'danceability', 'energy', 'key', 'loudness', 'mode', 'acousticness',\n",
    "                                  'liveness', 'valence', 'tempo', 'duration_ms'])\n",
    "\n",
    "for eachSong in myBeats.keys():\n",
    "    features = sp.audio_features(myBeats[eachSong])[0]\n",
    "    myfeaturesdf.loc[len(myfeaturesdf)] = [eachSong, features['danceability'], features['energy'], \n",
    "                                             features['key'], features['loudness'], features['mode'],\n",
    "                                            features['acousticness'], features['liveness'], features['valence'],\n",
    "                                       features['tempo'], features['duration_ms']]\n",
    "    \n",
    "myfeaturesdf['major'] = myfeaturesdf['mode']\n",
    "myfeaturesdf['minor'] = abs(1- myfeaturesdf['mode'])\n",
    "myfeaturesdf = myfeaturesdf.drop('mode', axis=1)"
   ]
  },
  {
   "cell_type": "markdown",
   "id": "1c201e44",
   "metadata": {},
   "source": [
    "\\* When exporting dataframe to csv, there will be an extra index column created in the most left row of the spreadsheet. You can easily manually remove it."
   ]
  },
  {
   "cell_type": "code",
   "execution_count": 1308,
   "id": "35c71b72",
   "metadata": {},
   "outputs": [],
   "source": [
    "#myfeaturesdf.to_csv(r'C:\\Users\\Pruthvi\\Desktop\\Beat Classifier\\mybeatfeatures.csv')"
   ]
  },
  {
   "cell_type": "code",
   "execution_count": 1309,
   "id": "e1aa9954",
   "metadata": {},
   "outputs": [],
   "source": [
    "myfeaturesdf = pd.read_csv(r'C:\\Users\\Pruthvi\\Desktop\\Beat Classifier\\mybeatfeatures.csv')"
   ]
  },
  {
   "cell_type": "markdown",
   "id": "aaab6d05",
   "metadata": {},
   "source": [
    "# Creating Keras Classification Model"
   ]
  },
  {
   "cell_type": "markdown",
   "id": "a78daef7",
   "metadata": {},
   "source": [
    "Important Note: This model will be evaluated qualitatively at the end. It will be trained on the gathered songs, with the X matrix being the song's relevant features and the Y matrix being the artist. In the end, the model should be able to handle a series of audio features and output which artist is most closely associated with the features. "
   ]
  },
  {
   "cell_type": "markdown",
   "id": "6147e829",
   "metadata": {},
   "source": [
    "### Binary Classification\n",
    "I will start with a simpler version of this project: Binary Classification. Specifically, I will classify my beats between two of my top, randomly-selected artists: NAV and Drake. Afterwards, I'll scale up the architecture of the ANN and try it with more artists, till I can reach them all."
   ]
  },
  {
   "cell_type": "code",
   "execution_count": 18,
   "id": "48708342",
   "metadata": {},
   "outputs": [],
   "source": [
    "featuresdf = pd.read_csv(r'C:\\Users\\Pruthvi\\Desktop\\Beat Classifier\\songfeaturesartistfiltered.csv')"
   ]
  },
  {
   "cell_type": "markdown",
   "id": "324b7b7d",
   "metadata": {},
   "source": [
    "#### Preparing X and Y matrices"
   ]
  },
  {
   "cell_type": "code",
   "execution_count": 19,
   "id": "c2db8fd6",
   "metadata": {},
   "outputs": [],
   "source": [
    "featuresdf.head(324)\n",
    "preBinaryX = featuresdf.iloc[:324,1:]\n",
    "preBinaryY = featuresdf.iloc[:324,0]"
   ]
  },
  {
   "cell_type": "code",
   "execution_count": 20,
   "id": "729be5c7",
   "metadata": {},
   "outputs": [],
   "source": [
    "X = preBinaryX.to_numpy()\n",
    "Y = [0 if y == 'NAV' else 1 for y in preBinaryY.to_numpy()]\n",
    "Y = to_categorical(Y)"
   ]
  },
  {
   "cell_type": "code",
   "execution_count": 21,
   "id": "03ffc539",
   "metadata": {},
   "outputs": [],
   "source": [
    "X_train, X_test, y_train, y_test = train_test_split(X, Y, test_size=0.30)"
   ]
  },
  {
   "cell_type": "code",
   "execution_count": 22,
   "id": "46f7b5d8",
   "metadata": {},
   "outputs": [],
   "source": [
    "#We are transforming x_test by X_train's mean and sd so that the test set is in the same terms/\"basis\" as \n",
    "#the training set.\n",
    "\n",
    "sc = StandardScaler()\n",
    "X_train = sc.fit_transform(X_train)\n",
    "X_test = sc.transform(X_test)\n",
    "\n"
   ]
  },
  {
   "cell_type": "markdown",
   "id": "c58123d0",
   "metadata": {},
   "source": [
    "#### Building the Binary Model"
   ]
  },
  {
   "cell_type": "code",
   "execution_count": 36,
   "id": "2482c818",
   "metadata": {},
   "outputs": [],
   "source": [
    "model_binary = Sequential()\n",
    "model_binary.add(Dense(32, input_dim=11, activation='relu'))\n",
    "model_binary.add(Dropout(0.4))\n",
    "model_binary.add(Dense(32, activation='relu'))\n",
    "model_binary.add(Dense(2, activation='softmax'))\n",
    "\n",
    "filepath=r\"C:\\Users\\Pruthvi\\Desktop\\Beat Classifier\"\n",
    "checkpoint = ModelCheckpoint(filepath, monitor='val_accuracy', verbose=0, save_best_only=True, mode='max')\n",
    "callbacks_list = [checkpoint]\n",
    "\n",
    "sgd = SGD(lr=0.001)"
   ]
  },
  {
   "cell_type": "code",
   "execution_count": 37,
   "id": "da39b88f",
   "metadata": {},
   "outputs": [],
   "source": [
    "model_binary.compile(loss='binary_crossentropy', optimizer='adam', metrics=['accuracy'])"
   ]
  },
  {
   "cell_type": "code",
   "execution_count": 38,
   "id": "270d8c48",
   "metadata": {},
   "outputs": [
    {
     "name": "stdout",
     "output_type": "stream",
     "text": [
      "INFO:tensorflow:Assets written to: C:\\Users\\Pruthvi\\Desktop\\Beat Classifier\\assets\n",
      "INFO:tensorflow:Assets written to: C:\\Users\\Pruthvi\\Desktop\\Beat Classifier\\assets\n",
      "INFO:tensorflow:Assets written to: C:\\Users\\Pruthvi\\Desktop\\Beat Classifier\\assets\n",
      "INFO:tensorflow:Assets written to: C:\\Users\\Pruthvi\\Desktop\\Beat Classifier\\assets\n",
      "INFO:tensorflow:Assets written to: C:\\Users\\Pruthvi\\Desktop\\Beat Classifier\\assets\n",
      "INFO:tensorflow:Assets written to: C:\\Users\\Pruthvi\\Desktop\\Beat Classifier\\assets\n",
      "INFO:tensorflow:Assets written to: C:\\Users\\Pruthvi\\Desktop\\Beat Classifier\\assets\n",
      "INFO:tensorflow:Assets written to: C:\\Users\\Pruthvi\\Desktop\\Beat Classifier\\assets\n",
      "INFO:tensorflow:Assets written to: C:\\Users\\Pruthvi\\Desktop\\Beat Classifier\\assets\n",
      "INFO:tensorflow:Assets written to: C:\\Users\\Pruthvi\\Desktop\\Beat Classifier\\assets\n",
      "INFO:tensorflow:Assets written to: C:\\Users\\Pruthvi\\Desktop\\Beat Classifier\\assets\n",
      "INFO:tensorflow:Assets written to: C:\\Users\\Pruthvi\\Desktop\\Beat Classifier\\assets\n"
     ]
    }
   ],
   "source": [
    "history = model_binary.fit(X_train, y_train, verbose=0,epochs=600, batch_size=200, callbacks=callbacks_list, validation_split=0.15)"
   ]
  },
  {
   "cell_type": "code",
   "execution_count": 39,
   "id": "9f66f241",
   "metadata": {
    "scrolled": false
   },
   "outputs": [
    {
     "data": {
      "image/png": "[encoded data removed]",
      "text/plain": [
       "<Figure size 432x288 with 1 Axes>"
      ]
     },
     "metadata": {
      "needs_background": "light"
     },
     "output_type": "display_data"
    }
   ],
   "source": [
    "plt.title(\"Model Training and Validation Loss\")\n",
    "plt.xlabel(\"Epochs (in hundreds)\")\n",
    "plt.ylabel(\"Loss (Categorical Crossentropy)\")\n",
    "plt.plot(history.history['loss'][::100])\n",
    "plt.plot(history.history['val_loss'][::100])\n",
    "plt.legend(labels=['Training', 'Validation']);"
   ]
  },
  {
   "cell_type": "code",
   "execution_count": 40,
   "id": "f676ff40",
   "metadata": {},
   "outputs": [
    {
     "data": {
      "image/png": "[encoded data removed]",
      "text/plain": [
       "<Figure size 432x288 with 1 Axes>"
      ]
     },
     "metadata": {
      "needs_background": "light"
     },
     "output_type": "display_data"
    }
   ],
   "source": [
    "plt.title(\"Model Training and Validation Accuracy\")\n",
    "plt.xlabel(\"Epochs (in hundreds)\")\n",
    "plt.ylabel(\"Accuracy\")\n",
    "plt.plot(history.history['accuracy'][::100])\n",
    "plt.plot(history.history['val_accuracy'][::100])\n",
    "plt.legend(labels=['Training', 'Validation']);"
   ]
  },
  {
   "cell_type": "markdown",
   "id": "050c294b",
   "metadata": {},
   "source": [
    "I am using validation accuracy over validation loss for determining when to stop training. This is because the low point of my validation loss isn't my best accuracy and my overall goal is to improve accuracy. "
   ]
  },
  {
   "cell_type": "markdown",
   "id": "dee93515",
   "metadata": {},
   "source": [
    "#### Evaluating Binary Model Further\n",
    "\n",
    "I am calcuating the accuracy of the model across a 1000 randomly generated test/train sets to see how the model generalizes and to test the accuracy from earlier training."
   ]
  },
  {
   "cell_type": "code",
   "execution_count": 30,
   "id": "6c0199ad",
   "metadata": {},
   "outputs": [],
   "source": [
    "def calculate_acc(X_test, y_test, model):\n",
    "    correct = 0\n",
    "    predictions = model.predict(X_test)\n",
    "    for index in range(1, len(X_test)):\n",
    "        if predictions[index][0] > predictions[index][1] and y_test[index][0] == 1:\n",
    "            correct+=1\n",
    "        elif predictions[index][1] > predictions[index][0] and y_test[index][1] == 1:\n",
    "            correct+=1\n",
    "    return correct/len(predictions)\n",
    "    \n",
    "    \n"
   ]
  },
  {
   "cell_type": "code",
   "execution_count": 32,
   "id": "effece54",
   "metadata": {
    "scrolled": true
   },
   "outputs": [],
   "source": [
    "model_eval = keras.models.load_model(r\"C:\\Users\\Pruthvi\\Desktop\\Beat Classifier\\BinaryModelDrakeandNAV\\binaryclassificationninetyfour.h5\")"
   ]
  },
  {
   "cell_type": "code",
   "execution_count": 33,
   "id": "dc4857fc",
   "metadata": {},
   "outputs": [],
   "source": [
    "trainaccuracy = []\n",
    "testaccuracy = []\n",
    "for h in range(1000):\n",
    "    X_train, X_test, y_train, y_test = train_test_split(X, Y, test_size=0.35)\n",
    "    X_train = sc.transform(X_train)\n",
    "    X_test = sc.transform(X_test)\n",
    "    trainaccuracy += [calculate_acc(X_train, y_train, model_eval)]\n",
    "    testaccuracy += [calculate_acc(X_test, y_test, model_eval)]\n",
    "\n"
   ]
  },
  {
   "cell_type": "code",
   "execution_count": 34,
   "id": "25ff8bb2",
   "metadata": {},
   "outputs": [
    {
     "name": "stdout",
     "output_type": "stream",
     "text": [
      "0.922161904761905\n"
     ]
    },
    {
     "data": {
      "image/png": "[encoded data removed]",
      "text/plain": [
       "<Figure size 432x288 with 1 Axes>"
      ]
     },
     "metadata": {
      "needs_background": "light"
     },
     "output_type": "display_data"
    }
   ],
   "source": [
    "print(np.mean(trainaccuracy))\n",
    "sns.histplot(trainaccuracy, stat='density')\n",
    "plt.xlabel(\"Accuracy\")\n",
    "plt.title(\"Distribution of Binary Model's Training Set Accuracy\");\n",
    "\n"
   ]
  },
  {
   "cell_type": "code",
   "execution_count": 35,
   "id": "81c57cc8",
   "metadata": {},
   "outputs": [
    {
     "name": "stdout",
     "output_type": "stream",
     "text": [
      "0.9166228070175438\n"
     ]
    },
    {
     "data": {
      "image/png": "[encoded data removed]",
      "text/plain": [
       "<Figure size 432x288 with 1 Axes>"
      ]
     },
     "metadata": {
      "needs_background": "light"
     },
     "output_type": "display_data"
    }
   ],
   "source": [
    "print(np.mean(testaccuracy))\n",
    "sns.histplot(testaccuracy, stat='density')\n",
    "plt.title(\"Distribution of Binary Model's Test Set Accuracy\")\n",
    "plt.xlabel('Accuracy');"
   ]
  },
  {
   "cell_type": "markdown",
   "id": "192f132f",
   "metadata": {},
   "source": [
    "To save binary model:"
   ]
  },
  {
   "cell_type": "code",
   "execution_count": 1413,
   "id": "4ca719d1",
   "metadata": {},
   "outputs": [],
   "source": [
    "#model_binary.save(r'C:\\Users\\Pruthvi\\Desktop\\Beat Classifier\\ninetyfour.h5')"
   ]
  },
  {
   "cell_type": "markdown",
   "id": "1295161b",
   "metadata": {},
   "source": [
    "In summary, this binary model, which classifies music as being closer to NAV or Drake's music, is able to do so with around ~92% accuracy when compared across 1000 samples. Now we will work with the entire subset of artists. Several key things I learned through this process of building a binary classifier:\n",
    "\n",
    "1. Tradeoff between model complexity and generality for ensuring similar accuracy between training and testing sets.\n",
    "2. Importance of standardizing the data after test-train-split. Allows model to reach \"global\" minimum and far quicker.\n",
    "3. Increasing the batch-size allows the model to start off with higher accuracy and train faster overall (less epochs). I also got a higher accuracy across my test and training sets.\n",
    "4. Keep track of accuracy across test and training sets and test several times since accuracy varies across samples."
   ]
  },
  {
   "cell_type": "code",
   "execution_count": 1198,
   "id": "883c7e68",
   "metadata": {},
   "outputs": [],
   "source": [
    "#model = load_model(r\"C:\\Users\\Pruthvi\\Desktop\\Beat Classifier\\ninetythree.h5\")"
   ]
  },
  {
   "cell_type": "markdown",
   "id": "d2ce41fa",
   "metadata": {},
   "source": [
    "### Full Multiclass Classifier (The Beginning)"
   ]
  },
  {
   "cell_type": "markdown",
   "id": "46093ef6",
   "metadata": {},
   "source": [
    "#### *Quick Changes\n",
    "\n",
    "After testing different architecture/hyperparameters on the A.N.N. model, I realized that to achieve a high accuracy, there needs to be more data per artist. Hence, I will group related artists using help from the \"Spotify Related Artists\" feature and personal preference (considering recent collaborations between artists). This is increase the datapoints per group and decrease the overall number of groups.\n"
   ]
  },
  {
   "cell_type": "code",
   "execution_count": 7,
   "id": "53f94ba8",
   "metadata": {},
   "outputs": [
    {
     "data": {
      "text/plain": [
       "'Pusha T'"
      ]
     },
     "execution_count": 7,
     "metadata": {},
     "output_type": "execute_result"
    }
   ],
   "source": [
    "sp.artist_related_artists('0c173mlxpT3dSFRgMO8XPh')['artists'][8]['name']"
   ]
  },
  {
   "cell_type": "markdown",
   "id": "75260f55",
   "metadata": {},
   "source": [
    "#### Grouping artists"
   ]
  },
  {
   "cell_type": "code",
   "execution_count": 6,
   "id": "5425a364",
   "metadata": {},
   "outputs": [],
   "source": [
    "def groupartists(names):\n",
    "    for index in range(len(names)):\n",
    "        if names[index] == \"YG\" or names[index] == \"Tyga\":\n",
    "            names[index] =\"YG x Tyga\"\n",
    "        \n",
    "        elif names[index] == \"Young Thug\" or names[index] == \"Future\":\n",
    "            names[index] = \"Young Thug x Future\"\n",
    "        \n",
    "        elif names[index] == \"Meek Mill\" or names[index] == \"Lil Durk\":\n",
    "            names[index] = \"Meek Mill x Lil Durk\"\n",
    "        \n",
    "        elif names[index] == \"Juicy J\" or names[index] == \"2 Chainz\":\n",
    "            names[index] = \"Juicy J x 2 Chainz\"\n",
    "        \n",
    "        elif names[index] == \"Eminem\" or names[index] == \"Logic\":\n",
    "            names[index] = \"Eminem x Logic\"\n",
    "        \n",
    "        elif names[index] == \"NAV\" or names[index] == \"Lil Uzi Vert\":\n",
    "            names[index] = \"NAV x Lil Uzi Vert\"\n",
    "        \n",
    "        elif names[index] == \"Kid Cudi\" or names[index] == \"Jaden\":\n",
    "            names[index] = \"Kid Cudi x Jaden\"\n",
    "        \n",
    "        elif names[index] == \"J. Cole\" or names[index] == \"21 Savage\":\n",
    "            names[index] = \"J. Cole x 21 Savage\"\n",
    "        \n",
    "        elif names[index] == \"Lil Wayne\" or names[index] == \"DJ Khaled\":\n",
    "            names[index] = \"Lil Wayne x DJ Khaled\"\n",
    "        \n",
    "        elif names[index] == \"The Weeknd\" or names[index] == \"Post Malone\":\n",
    "            names[index] = \"The Weeknd x Post Malone\"\n",
    "        \n",
    "        elif names[index] == \"Kevin Gates\" or names[index] == \"Gucci Mane\":\n",
    "            names[index] = \"Kevin Gates x Gucci Mane\"\n",
    "        \n",
    "        elif names[index] == \"Kanye West\" or names[index] == \"Big Sean\":\n",
    "            names[index] = \"Kanye West x Big Sean\"\n",
    "            \n",
    "        elif names[index] == \"Tory Lanez\" or names[index] == \"DaBaby\":\n",
    "            names[index] = \"Tory Lanez x Dababy\"\n",
    "            \n",
    "        elif names[index] == \"Russ\" or names[index] == \"Ty Dolla Sign\":\n",
    "            names[index] = \"Russ x Ty Dolla Sign\"\n",
    "            \n",
    "        elif names[index] == \"Iamsu!\" or names[index] == \"G-Eazy\":\n",
    "            names[index] = \"Iamsu! x G-Eazy\"\n",
    "        \n",
    "    return names    \n",
    "        \n",
    "    "
   ]
  },
  {
   "cell_type": "code",
   "execution_count": 45,
   "id": "2408052d",
   "metadata": {},
   "outputs": [],
   "source": [
    "featuresdf = pd.read_csv(r'C:\\Users\\Pruthvi\\Desktop\\Beat Classifier\\songfeaturesartistfiltered.csv')"
   ]
  },
  {
   "cell_type": "code",
   "execution_count": 46,
   "id": "200a9063",
   "metadata": {},
   "outputs": [],
   "source": [
    "artistlabels = featuresdf['artist']"
   ]
  },
  {
   "cell_type": "code",
   "execution_count": 47,
   "id": "50c550b5",
   "metadata": {},
   "outputs": [
    {
     "name": "stderr",
     "output_type": "stream",
     "text": [
      "<ipython-input-6-f20ecc94eaaf>:19: SettingWithCopyWarning: \n",
      "A value is trying to be set on a copy of a slice from a DataFrame\n",
      "\n",
      "See the caveats in the documentation: https://pandas.pydata.org/pandas-docs/stable/user_guide/indexing.html#returning-a-view-versus-a-copy\n",
      "  names[index] = \"NAV x Lil Uzi Vert\"\n",
      "<ipython-input-6-f20ecc94eaaf>:40: SettingWithCopyWarning: \n",
      "A value is trying to be set on a copy of a slice from a DataFrame\n",
      "\n",
      "See the caveats in the documentation: https://pandas.pydata.org/pandas-docs/stable/user_guide/indexing.html#returning-a-view-versus-a-copy\n",
      "  names[index] = \"Tory Lanez x Dababy\"\n",
      "<ipython-input-6-f20ecc94eaaf>:25: SettingWithCopyWarning: \n",
      "A value is trying to be set on a copy of a slice from a DataFrame\n",
      "\n",
      "See the caveats in the documentation: https://pandas.pydata.org/pandas-docs/stable/user_guide/indexing.html#returning-a-view-versus-a-copy\n",
      "  names[index] = \"J. Cole x 21 Savage\"\n",
      "<ipython-input-6-f20ecc94eaaf>:7: SettingWithCopyWarning: \n",
      "A value is trying to be set on a copy of a slice from a DataFrame\n",
      "\n",
      "See the caveats in the documentation: https://pandas.pydata.org/pandas-docs/stable/user_guide/indexing.html#returning-a-view-versus-a-copy\n",
      "  names[index] = \"Young Thug x Future\"\n",
      "<ipython-input-6-f20ecc94eaaf>:10: SettingWithCopyWarning: \n",
      "A value is trying to be set on a copy of a slice from a DataFrame\n",
      "\n",
      "See the caveats in the documentation: https://pandas.pydata.org/pandas-docs/stable/user_guide/indexing.html#returning-a-view-versus-a-copy\n",
      "  names[index] = \"Meek Mill x Lil Durk\"\n",
      "<ipython-input-6-f20ecc94eaaf>:37: SettingWithCopyWarning: \n",
      "A value is trying to be set on a copy of a slice from a DataFrame\n",
      "\n",
      "See the caveats in the documentation: https://pandas.pydata.org/pandas-docs/stable/user_guide/indexing.html#returning-a-view-versus-a-copy\n",
      "  names[index] = \"Kanye West x Big Sean\"\n",
      "<ipython-input-6-f20ecc94eaaf>:46: SettingWithCopyWarning: \n",
      "A value is trying to be set on a copy of a slice from a DataFrame\n",
      "\n",
      "See the caveats in the documentation: https://pandas.pydata.org/pandas-docs/stable/user_guide/indexing.html#returning-a-view-versus-a-copy\n",
      "  names[index] = \"Iamsu! x G-Eazy\"\n",
      "<ipython-input-6-f20ecc94eaaf>:31: SettingWithCopyWarning: \n",
      "A value is trying to be set on a copy of a slice from a DataFrame\n",
      "\n",
      "See the caveats in the documentation: https://pandas.pydata.org/pandas-docs/stable/user_guide/indexing.html#returning-a-view-versus-a-copy\n",
      "  names[index] = \"The Weeknd x Post Malone\"\n",
      "<ipython-input-6-f20ecc94eaaf>:28: SettingWithCopyWarning: \n",
      "A value is trying to be set on a copy of a slice from a DataFrame\n",
      "\n",
      "See the caveats in the documentation: https://pandas.pydata.org/pandas-docs/stable/user_guide/indexing.html#returning-a-view-versus-a-copy\n",
      "  names[index] = \"Lil Wayne x DJ Khaled\"\n",
      "<ipython-input-6-f20ecc94eaaf>:34: SettingWithCopyWarning: \n",
      "A value is trying to be set on a copy of a slice from a DataFrame\n",
      "\n",
      "See the caveats in the documentation: https://pandas.pydata.org/pandas-docs/stable/user_guide/indexing.html#returning-a-view-versus-a-copy\n",
      "  names[index] = \"Kevin Gates x Gucci Mane\"\n",
      "<ipython-input-6-f20ecc94eaaf>:4: SettingWithCopyWarning: \n",
      "A value is trying to be set on a copy of a slice from a DataFrame\n",
      "\n",
      "See the caveats in the documentation: https://pandas.pydata.org/pandas-docs/stable/user_guide/indexing.html#returning-a-view-versus-a-copy\n",
      "  names[index] =\"YG x Tyga\"\n",
      "<ipython-input-6-f20ecc94eaaf>:16: SettingWithCopyWarning: \n",
      "A value is trying to be set on a copy of a slice from a DataFrame\n",
      "\n",
      "See the caveats in the documentation: https://pandas.pydata.org/pandas-docs/stable/user_guide/indexing.html#returning-a-view-versus-a-copy\n",
      "  names[index] = \"Eminem x Logic\"\n",
      "<ipython-input-6-f20ecc94eaaf>:22: SettingWithCopyWarning: \n",
      "A value is trying to be set on a copy of a slice from a DataFrame\n",
      "\n",
      "See the caveats in the documentation: https://pandas.pydata.org/pandas-docs/stable/user_guide/indexing.html#returning-a-view-versus-a-copy\n",
      "  names[index] = \"Kid Cudi x Jaden\"\n",
      "<ipython-input-6-f20ecc94eaaf>:13: SettingWithCopyWarning: \n",
      "A value is trying to be set on a copy of a slice from a DataFrame\n",
      "\n",
      "See the caveats in the documentation: https://pandas.pydata.org/pandas-docs/stable/user_guide/indexing.html#returning-a-view-versus-a-copy\n",
      "  names[index] = \"Juicy J x 2 Chainz\"\n",
      "<ipython-input-6-f20ecc94eaaf>:43: SettingWithCopyWarning: \n",
      "A value is trying to be set on a copy of a slice from a DataFrame\n",
      "\n",
      "See the caveats in the documentation: https://pandas.pydata.org/pandas-docs/stable/user_guide/indexing.html#returning-a-view-versus-a-copy\n",
      "  names[index] = \"Russ x Ty Dolla Sign\"\n"
     ]
    }
   ],
   "source": [
    "artistlabels1 = groupartists(artistlabels)"
   ]
  },
  {
   "cell_type": "code",
   "execution_count": 48,
   "id": "6038e735",
   "metadata": {},
   "outputs": [
    {
     "data": {
      "text/plain": [
       "Kevin Gates x Gucci Mane    432\n",
       "Juicy J x 2 Chainz          427\n",
       "Iamsu! x G-Eazy             416\n",
       "Young Thug x Future         393\n",
       "Meek Mill x Lil Durk        386\n",
       "J. Cole x 21 Savage         380\n",
       "YG x Tyga                   375\n",
       "Russ x Ty Dolla Sign        375\n",
       "Lil Wayne x DJ Khaled       373\n",
       "Kanye West x Big Sean       340\n",
       "Nipsey Hussle               301\n",
       "Tory Lanez x Dababy         284\n",
       "Eminem x Logic              283\n",
       "Kid Cudi x Jaden            273\n",
       "NAV x Lil Uzi Vert          265\n",
       "The Weeknd x Post Malone    243\n",
       "Drake                       181\n",
       "French Montana              175\n",
       "Wiz Khalifa                 157\n",
       "Name: artist, dtype: int64"
      ]
     },
     "execution_count": 48,
     "metadata": {},
     "output_type": "execute_result"
    }
   ],
   "source": [
    "artistlabels1.value_counts()"
   ]
  },
  {
   "cell_type": "code",
   "execution_count": 49,
   "id": "b24f4f2e",
   "metadata": {},
   "outputs": [],
   "source": [
    "featuresdf['artist'] = artistlabels1"
   ]
  },
  {
   "cell_type": "code",
   "execution_count": 51,
   "id": "73c44660",
   "metadata": {},
   "outputs": [
    {
     "data": {
      "text/html": [
       "<div>\n",
       "<style scoped>\n",
       "    .dataframe tbody tr th:only-of-type {\n",
       "        vertical-align: middle;\n",
       "    }\n",
       "\n",
       "    .dataframe tbody tr th {\n",
       "        vertical-align: top;\n",
       "    }\n",
       "\n",
       "    .dataframe thead th {\n",
       "        text-align: right;\n",
       "    }\n",
       "</style>\n",
       "<table border=\"1\" class=\"dataframe\">\n",
       "  <thead>\n",
       "    <tr style=\"text-align: right;\">\n",
       "      <th></th>\n",
       "      <th>artist</th>\n",
       "      <th>danceability</th>\n",
       "      <th>energy</th>\n",
       "      <th>key</th>\n",
       "      <th>loudness</th>\n",
       "      <th>acousticness</th>\n",
       "      <th>liveness</th>\n",
       "      <th>valence</th>\n",
       "      <th>tempo</th>\n",
       "      <th>duration_ms</th>\n",
       "      <th>major</th>\n",
       "      <th>minor</th>\n",
       "    </tr>\n",
       "  </thead>\n",
       "  <tbody>\n",
       "    <tr>\n",
       "      <th>0</th>\n",
       "      <td>NAV x Lil Uzi Vert</td>\n",
       "      <td>0.721</td>\n",
       "      <td>0.684</td>\n",
       "      <td>5</td>\n",
       "      <td>-10.378</td>\n",
       "      <td>0.93700</td>\n",
       "      <td>0.901</td>\n",
       "      <td>0.913</td>\n",
       "      <td>126.958</td>\n",
       "      <td>34936</td>\n",
       "      <td>1</td>\n",
       "      <td>0</td>\n",
       "    </tr>\n",
       "    <tr>\n",
       "      <th>1</th>\n",
       "      <td>NAV x Lil Uzi Vert</td>\n",
       "      <td>0.835</td>\n",
       "      <td>0.509</td>\n",
       "      <td>1</td>\n",
       "      <td>-6.792</td>\n",
       "      <td>0.03420</td>\n",
       "      <td>0.140</td>\n",
       "      <td>0.275</td>\n",
       "      <td>129.077</td>\n",
       "      <td>145121</td>\n",
       "      <td>1</td>\n",
       "      <td>0</td>\n",
       "    </tr>\n",
       "    <tr>\n",
       "      <th>2</th>\n",
       "      <td>NAV x Lil Uzi Vert</td>\n",
       "      <td>0.918</td>\n",
       "      <td>0.544</td>\n",
       "      <td>6</td>\n",
       "      <td>-3.749</td>\n",
       "      <td>0.01220</td>\n",
       "      <td>0.085</td>\n",
       "      <td>0.311</td>\n",
       "      <td>122.017</td>\n",
       "      <td>151481</td>\n",
       "      <td>0</td>\n",
       "      <td>1</td>\n",
       "    </tr>\n",
       "    <tr>\n",
       "      <th>3</th>\n",
       "      <td>NAV x Lil Uzi Vert</td>\n",
       "      <td>0.955</td>\n",
       "      <td>0.619</td>\n",
       "      <td>5</td>\n",
       "      <td>-5.242</td>\n",
       "      <td>0.03170</td>\n",
       "      <td>0.108</td>\n",
       "      <td>0.524</td>\n",
       "      <td>116.026</td>\n",
       "      <td>157242</td>\n",
       "      <td>0</td>\n",
       "      <td>1</td>\n",
       "    </tr>\n",
       "    <tr>\n",
       "      <th>4</th>\n",
       "      <td>NAV x Lil Uzi Vert</td>\n",
       "      <td>0.788</td>\n",
       "      <td>0.778</td>\n",
       "      <td>11</td>\n",
       "      <td>-4.931</td>\n",
       "      <td>0.00218</td>\n",
       "      <td>0.144</td>\n",
       "      <td>0.543</td>\n",
       "      <td>159.995</td>\n",
       "      <td>159004</td>\n",
       "      <td>0</td>\n",
       "      <td>1</td>\n",
       "    </tr>\n",
       "  </tbody>\n",
       "</table>\n",
       "</div>"
      ],
      "text/plain": [
       "               artist  danceability  energy  key  loudness  acousticness  \\\n",
       "0  NAV x Lil Uzi Vert         0.721   0.684    5   -10.378       0.93700   \n",
       "1  NAV x Lil Uzi Vert         0.835   0.509    1    -6.792       0.03420   \n",
       "2  NAV x Lil Uzi Vert         0.918   0.544    6    -3.749       0.01220   \n",
       "3  NAV x Lil Uzi Vert         0.955   0.619    5    -5.242       0.03170   \n",
       "4  NAV x Lil Uzi Vert         0.788   0.778   11    -4.931       0.00218   \n",
       "\n",
       "   liveness  valence    tempo  duration_ms  major  minor  \n",
       "0     0.901    0.913  126.958        34936      1      0  \n",
       "1     0.140    0.275  129.077       145121      1      0  \n",
       "2     0.085    0.311  122.017       151481      0      1  \n",
       "3     0.108    0.524  116.026       157242      0      1  \n",
       "4     0.144    0.543  159.995       159004      0      1  "
      ]
     },
     "execution_count": 51,
     "metadata": {},
     "output_type": "execute_result"
    }
   ],
   "source": [
    "featuresdf.head(5)"
   ]
  },
  {
   "cell_type": "code",
   "execution_count": 15,
   "id": "f33b6289",
   "metadata": {},
   "outputs": [],
   "source": [
    "featuresdf.to_csv(r'C:\\Users\\Pruthvi\\Desktop\\Beat Classifier\\fullclassifierdataset.csv')"
   ]
  },
  {
   "cell_type": "markdown",
   "id": "bd203bcd",
   "metadata": {},
   "source": [
    "#### Preparing X and Y matrices"
   ]
  },
  {
   "cell_type": "code",
   "execution_count": 285,
   "id": "8a352fe1",
   "metadata": {},
   "outputs": [],
   "source": [
    "#X-matrix\n",
    "X = featuresdf.iloc[:,1:].to_numpy()"
   ]
  },
  {
   "cell_type": "code",
   "execution_count": 286,
   "id": "c58c08cc",
   "metadata": {},
   "outputs": [
    {
     "data": {
      "text/plain": [
       "(6059, 11)"
      ]
     },
     "execution_count": 286,
     "metadata": {},
     "output_type": "execute_result"
    }
   ],
   "source": [
    "X.shape"
   ]
  },
  {
   "cell_type": "code",
   "execution_count": 287,
   "id": "36613557",
   "metadata": {},
   "outputs": [
    {
     "data": {
      "text/plain": [
       "(6059, 19)"
      ]
     },
     "execution_count": 287,
     "metadata": {},
     "output_type": "execute_result"
    }
   ],
   "source": [
    "#Y-matrix\n",
    "\n",
    "#One-hot-encoding\n",
    "Y_cat = featuresdf['artist']\n",
    "encoder = LabelEncoder()\n",
    "encoder.fit(Y_cat)\n",
    "Y_encoded = encoder.transform(Y_cat)\n",
    "Y = to_categorical(Y_encoded)\n",
    "Y.shape"
   ]
  },
  {
   "cell_type": "code",
   "execution_count": 293,
   "id": "e43d09c0",
   "metadata": {},
   "outputs": [],
   "source": [
    "X_train_full, X_test_full, y_train_full, y_test_full = train_test_split(X, Y, test_size=0.30)"
   ]
  },
  {
   "cell_type": "code",
   "execution_count": 294,
   "id": "7183d53d",
   "metadata": {},
   "outputs": [],
   "source": [
    "#Standardize X\n",
    "sc = StandardScaler()\n",
    "X_train_full = sc.fit_transform(X_train_full)\n",
    "X_test_full = sc.transform(X_test_full)"
   ]
  },
  {
   "cell_type": "markdown",
   "id": "ec77b77e",
   "metadata": {},
   "source": [
    "I will be using a GridSearch to find the ideal hyperparameters for my model."
   ]
  },
  {
   "cell_type": "markdown",
   "id": "1aa1fbec",
   "metadata": {},
   "source": [
    "#### GridSearch"
   ]
  },
  {
   "cell_type": "code",
   "execution_count": 383,
   "id": "ebaf0ec7",
   "metadata": {},
   "outputs": [],
   "source": [
    "def create_model(layers, activation):\n",
    "    model = Sequential()\n",
    "    for i, nodes in enumerate(layers):\n",
    "        if i==0:\n",
    "            model.add(Dense(nodes, input_dim=11, activation=activation))\n",
    "            model.add(Dropout(0.3))\n",
    "        else:\n",
    "            model.add(Dense(nodes, kernel_initializer='he_normal', activation=activation))\n",
    "            model.add(Dropout(0.3))\n",
    "    \n",
    "    model.add(Dense(units = 19, activation='softmax'))\n",
    "    model.compile(loss='categorical_crossentropy', optimizer='adam', metrics=['accuracy'])\n",
    "            \n",
    "    return model\n",
    "    "
   ]
  },
  {
   "cell_type": "code",
   "execution_count": 384,
   "id": "21513b9c",
   "metadata": {},
   "outputs": [],
   "source": [
    "model_full = KerasClassifier(build_fn=create_model, verbose=2)"
   ]
  },
  {
   "cell_type": "code",
   "execution_count": 385,
   "id": "dfbb1352",
   "metadata": {},
   "outputs": [],
   "source": [
    "layers = [(64,32,16), (1024, 512), (128, 64, 32, 16), (16, 16, 16, 16, 16), (64, 32, 16, 16, 8), \n",
    "          (128, 64, 32, 16, 8), (4096,)]\n",
    "\n",
    "activations = ['relu']\n",
    "\n",
    "batch_sizes = (256, 512, 1024, 2048, 4096)\n",
    "\n",
    "epochs = [6000]\n",
    "\n",
    "param_grid = {'layers': layers, 'activation': activations, 'batch_size': batch_sizes, 'epochs': epochs}\n",
    "\n",
    "theGrid = GridSearchCV(estimator=model_full, param_grid=param_grid,cv=5)"
   ]
  },
  {
   "cell_type": "markdown",
   "id": "f6d68f53",
   "metadata": {},
   "source": [
    " Running this code in the Jupyter Notebook isn't feasible. Local machines can't handle a large grid search like this. \n",
    "\n",
    "### Hence we move to Google Colab and use a GPU!"
   ]
  },
  {
   "cell_type": "code",
   "execution_count": null,
   "id": "8100a217",
   "metadata": {},
   "outputs": [],
   "source": [
    "###Don't run this cell!!!\n",
    "#best_model = theGrid.fit(X_train_full, y_train_full)"
   ]
  }
 ],
 "metadata": {
  "kernelspec": {
   "display_name": "Python 3",
   "language": "python",
   "name": "python3"
  },
  "language_info": {
   "codemirror_mode": {
    "name": "ipython",
    "version": 3
   },
   "file_extension": ".py",
   "mimetype": "text/x-python",
   "name": "python",
   "nbconvert_exporter": "python",
   "pygments_lexer": "ipython3",
   "version": "3.8.10"
  }
 },
 "nbformat": 4,
 "nbformat_minor": 5
}
